{
 "cells": [
  {
   "cell_type": "code",
   "execution_count": 5,
   "metadata": {},
   "outputs": [],
   "source": [
    "import os\n",
    "import cv2\n",
    "import matplotlib.pyplot as plt"
   ]
  },
  {
   "cell_type": "code",
   "execution_count": 2,
   "metadata": {},
   "outputs": [],
   "source": [
    "os.chdir('C://Users//Niranjan//OneDrive//Desktop//DSAM')"
   ]
  },
  {
   "cell_type": "code",
   "execution_count": 4,
   "metadata": {},
   "outputs": [],
   "source": [
    "images = os.listdir()"
   ]
  },
  {
   "cell_type": "code",
   "execution_count": 12,
   "metadata": {},
   "outputs": [
    {
     "data": {
      "image/png": "[encoded data removed]",
      "text/plain": [
       "<Figure size 432x288 with 1 Axes>"
      ]
     },
     "metadata": {
      "needs_background": "light"
     },
     "output_type": "display_data"
    }
   ],
   "source": [
    "for image in images:\n",
    "    img = cv2.imread(image,1)\n",
    "    img = cv2.cvtColor(img,cv2.COLOR_BGR2GRAY)\n",
    "    img = cv2.bitwise_not(img)\n",
    "    plt.imshow(img,cmap='gray')\n",
    "    cv2.imwrite(image,img)"
   ]
  },
  {
   "cell_type": "code",
   "execution_count": 11,
   "metadata": {},
   "outputs": [
    {
     "name": "stdout",
     "output_type": "stream",
     "text": [
      "Help on built-in function imwrite:\n",
      "\n",
      "imwrite(...)\n",
      "    imwrite(filename, img[, params]) -> retval\n",
      "    .   @brief Saves an image to a specified file.\n",
      "    .   \n",
      "    .   The function imwrite saves the image to the specified file. The image format is chosen based on the\n",
      "    .   filename extension (see cv::imread for the list of extensions). In general, only 8-bit\n",
      "    .   single-channel or 3-channel (with 'BGR' channel order) images\n",
      "    .   can be saved using this function, with these exceptions:\n",
      "    .   \n",
      "    .   - 16-bit unsigned (CV_16U) images can be saved in the case of PNG, JPEG 2000, and TIFF formats\n",
      "    .   - 32-bit float (CV_32F) images can be saved in PFM, TIFF, OpenEXR, and Radiance HDR formats;\n",
      "    .     3-channel (CV_32FC3) TIFF images will be saved using the LogLuv high dynamic range encoding\n",
      "    .     (4 bytes per pixel)\n",
      "    .   - PNG images with an alpha channel can be saved using this function. To do this, create\n",
      "    .   8-bit (or 16-bit) 4-channel image BGRA, where the alpha channel goes last. Fully transparent pixels\n",
      "    .   should have alpha set to 0, fully opaque pixels should have alpha set to 255/65535 (see the code sample below).\n",
      "    .   \n",
      "    .   If the format, depth or channel order is different, use\n",
      "    .   Mat::convertTo and cv::cvtColor to convert it before saving. Or, use the universal FileStorage I/O\n",
      "    .   functions to save the image to XML or YAML format.\n",
      "    .   \n",
      "    .   The sample below shows how to create a BGRA image and save it to a PNG file. It also demonstrates how to set custom\n",
      "    .   compression parameters:\n",
      "    .   @include snippets/imgcodecs_imwrite.cpp\n",
      "    .   @param filename Name of the file.\n",
      "    .   @param img Image to be saved.\n",
      "    .   @param params Format-specific parameters encoded as pairs (paramId_1, paramValue_1, paramId_2, paramValue_2, ... .) see cv::ImwriteFlags\n",
      "\n"
     ]
    }
   ],
   "source": [
    "help(cv2.imwrite)"
   ]
  },
  {
   "cell_type": "code",
   "execution_count": null,
   "metadata": {},
   "outputs": [],
   "source": []
  }
 ],
 "metadata": {
  "kernelspec": {
   "display_name": "Python 3",
   "language": "python",
   "name": "python3"
  },
  "language_info": {
   "codemirror_mode": {
    "name": "ipython",
    "version": 3
   },
   "file_extension": ".py",
   "mimetype": "text/x-python",
   "name": "python",
   "nbconvert_exporter": "python",
   "pygments_lexer": "ipython3",
   "version": "3.7.1"
  }
 },
 "nbformat": 4,
 "nbformat_minor": 2
}
